{
  "nbformat": 4,
  "nbformat_minor": 0,
  "metadata": {
    "colab": {
      "provenance": []
    },
    "kernelspec": {
      "name": "python3",
      "display_name": "Python 3"
    },
    "language_info": {
      "name": "python"
    }
  },
  "cells": [
    {
      "cell_type": "markdown",
      "source": [
        "## Retrieving pdfs from Gallica\n",
        "The code is a simplified version from the one made for [pyllica](https://api.bnf.fr/fr/extracteur-python-de-corpus-de-periodiques) and posted [here](https://colab.research.google.com/drive/19qt44UwQgu4l0cMME4afEhQQh2swNwmy?usp=sharing) by Dorialexander"
      ],
      "metadata": {
        "id": "WjHWDMpUT62d"
      }
    },
    {
      "cell_type": "code",
      "execution_count": 67,
      "metadata": {
        "id": "-_egHX3ih6O1"
      },
      "outputs": [],
      "source": [
        "import urllib.request, urllib.error, urllib.parse\n",
        "import pandas as pd\n",
        "import re\n",
        "import os\n",
        "import time"
      ]
    },
    {
      "cell_type": "markdown",
      "source": [
        "Mount Drive for direct downloads"
      ],
      "metadata": {
        "id": "jz5WR9QrUrXX"
      }
    },
    {
      "cell_type": "code",
      "source": [
        "from google.colab import drive\n",
        "drive.mount('/content/drive')"
      ],
      "metadata": {
        "colab": {
          "base_uri": "https://localhost:8080/"
        },
        "id": "hSrssy2OFwih",
        "outputId": "fc53065a-10f3-4610-f3f4-af6f4596222d"
      },
      "execution_count": 29,
      "outputs": [
        {
          "output_type": "stream",
          "name": "stdout",
          "text": [
            "Mounted at /content/drive\n"
          ]
        }
      ]
    },
    {
      "cell_type": "code",
      "source": [
        "%cd /content/drive/MyDrive/work/PaPa/gallica_files"
      ],
      "metadata": {
        "colab": {
          "base_uri": "https://localhost:8080/"
        },
        "id": "fx3oCPSmG9qK",
        "outputId": "786c1911-cff0-4f16-9607-611ae17ac750"
      },
      "execution_count": 31,
      "outputs": [
        {
          "output_type": "stream",
          "name": "stdout",
          "text": [
            "/content/drive/MyDrive/work/PaPa/gallica_files\n"
          ]
        }
      ]
    },
    {
      "cell_type": "code",
      "source": [
        "%ls"
      ],
      "metadata": {
        "colab": {
          "base_uri": "https://localhost:8080/"
        },
        "id": "GwkeJm8gMXf2",
        "outputId": "5db23c03-1174-4072-ade1-610844638c36"
      },
      "execution_count": 43,
      "outputs": [
        {
          "output_type": "stream",
          "name": "stdout",
          "text": [
            "metadata.csv\n"
          ]
        }
      ]
    },
    {
      "cell_type": "markdown",
      "source": [
        "Read metadata with links & filenames"
      ],
      "metadata": {
        "id": "zjJ1_uQ4Uwuk"
      }
    },
    {
      "cell_type": "code",
      "source": [
        "metadata = pd.read_table('metadata.csv', sep=';')\n",
        "metadata.head()"
      ],
      "metadata": {
        "colab": {
          "base_uri": "https://localhost:8080/",
          "height": 649
        },
        "id": "AH-JYSGGHk1_",
        "outputId": "4d0deafd-2222-401d-8c19-a7c639fd588d"
      },
      "execution_count": 54,
      "outputs": [
        {
          "output_type": "execute_result",
          "data": {
            "text/plain": [
              "   id                                        link_bnf  \\\n",
              "0   1  http://catalogue.bnf.fr/ark:/12148/cb37236775k   \n",
              "1   2  http://catalogue.bnf.fr/ark:/12148/cb346933758   \n",
              "2   3  http://catalogue.bnf.fr/ark:/12148/cb30051725x   \n",
              "3   4  http://catalogue.bnf.fr/ark:/12148/cb300517148   \n",
              "4   5  http://catalogue.bnf.fr/ark:/12148/cb30051721j   \n",
              "\n",
              "                                      link_gallica        author_short  \\\n",
              "0    https://gallica.bnf.fr/ark:/12148/bpt6k42803h  Bancal des Issarts   \n",
              "1    https://gallica.bnf.fr/ark:/12148/bpt6k85298x  Bancal des Issarts   \n",
              "2  https://gallica.bnf.fr/ark:/12148/bpt6k42324856  Bancal des Issarts   \n",
              "3    https://gallica.bnf.fr/ark:/12148/bpt6k853041  Bancal des Issarts   \n",
              "4  https://gallica.bnf.fr/ark:/12148/bpt6k62669573  Bancal des Issarts   \n",
              "\n",
              "  selected_for_galerie                                              title  \\\n",
              "0                  yes  Opinion sur le divorce, prononcée au Conseil d...   \n",
              "1                  yes  Du nouvel ordre social ([Reprod.]) par Henry B...   \n",
              "2                  NaN  Convention nationale. Discours et projet de dé...   \n",
              "3                  NaN  Henri Bancal, député à la Convention, à Anacha...   \n",
              "4                  NaN  Des prochaines élections de l'an VI , par Jean...   \n",
              "\n",
              "        date                                             format  \\\n",
              "0       1797                    57p___1 microfiche ; 105*148 mm   \n",
              "1       1792  52p___1 microfiche acétate de 98 images, diazo...   \n",
              "2       1792                                      In-8° , 28 p.   \n",
              "3  1793-1794                                       16 p. ; in-8   \n",
              "4       1798                                       12 p. ; in-8   \n",
              "\n",
              "                                              author  \\\n",
              "0  Bancal Desissarts, Jean-Henri (1750-1826). Aut...   \n",
              "1  Bancal Desissarts, Jean-Henri (1750-1826). Aut...   \n",
              "2  Bancal Desissarts, Jean-Henri (1750-1826). Aut...   \n",
              "3  Bancal Desissarts, Jean-Henri (1750-1826). Aut...   \n",
              "4  Bancal Desissarts, Jean-Henri (1750-1826). Aut...   \n",
              "\n",
              "                                        contributors  \\\n",
              "0                                                NaN   \n",
              "1                                                NaN   \n",
              "2  France. Convention nationale. Éditeur scientif...   \n",
              "3                                                NaN   \n",
              "4                                                NaN   \n",
              "\n",
              "                          editors  \\\n",
              "0                   Micro Graphix   \n",
              "1                Hachette (Paris)   \n",
              "2         Impr. nationale (Paris)   \n",
              "3  Impr. du Cercle social (Paris)   \n",
              "4       impr. de Baudouin (Paris)   \n",
              "\n",
              "                                         description  \\\n",
              "0  Collection : Les archives de la Révolution fra...   \n",
              "1                                                NaN   \n",
              "2                                                NaN   \n",
              "3                                                NaN   \n",
              "4                                                NaN   \n",
              "\n",
              "                      subject notes  \n",
              "0  Divorce -- Droit -- France   NaN  \n",
              "1                         NaN   NaN  \n",
              "2                         NaN   NaN  \n",
              "3                         NaN   NaN  \n",
              "4                         NaN   NaN  "
            ],
            "text/html": [
              "\n",
              "  <div id=\"df-2fe0210d-e7c7-4741-a5c4-4d86f91bab59\" class=\"colab-df-container\">\n",
              "    <div>\n",
              "<style scoped>\n",
              "    .dataframe tbody tr th:only-of-type {\n",
              "        vertical-align: middle;\n",
              "    }\n",
              "\n",
              "    .dataframe tbody tr th {\n",
              "        vertical-align: top;\n",
              "    }\n",
              "\n",
              "    .dataframe thead th {\n",
              "        text-align: right;\n",
              "    }\n",
              "</style>\n",
              "<table border=\"1\" class=\"dataframe\">\n",
              "  <thead>\n",
              "    <tr style=\"text-align: right;\">\n",
              "      <th></th>\n",
              "      <th>id</th>\n",
              "      <th>link_bnf</th>\n",
              "      <th>link_gallica</th>\n",
              "      <th>author_short</th>\n",
              "      <th>selected_for_galerie</th>\n",
              "      <th>title</th>\n",
              "      <th>date</th>\n",
              "      <th>format</th>\n",
              "      <th>author</th>\n",
              "      <th>contributors</th>\n",
              "      <th>editors</th>\n",
              "      <th>description</th>\n",
              "      <th>subject</th>\n",
              "      <th>notes</th>\n",
              "    </tr>\n",
              "  </thead>\n",
              "  <tbody>\n",
              "    <tr>\n",
              "      <th>0</th>\n",
              "      <td>1</td>\n",
              "      <td>http://catalogue.bnf.fr/ark:/12148/cb37236775k</td>\n",
              "      <td>https://gallica.bnf.fr/ark:/12148/bpt6k42803h</td>\n",
              "      <td>Bancal des Issarts</td>\n",
              "      <td>yes</td>\n",
              "      <td>Opinion sur le divorce, prononcée au Conseil d...</td>\n",
              "      <td>1797</td>\n",
              "      <td>57p___1 microfiche ; 105*148 mm</td>\n",
              "      <td>Bancal Desissarts, Jean-Henri (1750-1826). Aut...</td>\n",
              "      <td>NaN</td>\n",
              "      <td>Micro Graphix</td>\n",
              "      <td>Collection : Les archives de la Révolution fra...</td>\n",
              "      <td>Divorce -- Droit -- France</td>\n",
              "      <td>NaN</td>\n",
              "    </tr>\n",
              "    <tr>\n",
              "      <th>1</th>\n",
              "      <td>2</td>\n",
              "      <td>http://catalogue.bnf.fr/ark:/12148/cb346933758</td>\n",
              "      <td>https://gallica.bnf.fr/ark:/12148/bpt6k85298x</td>\n",
              "      <td>Bancal des Issarts</td>\n",
              "      <td>yes</td>\n",
              "      <td>Du nouvel ordre social ([Reprod.]) par Henry B...</td>\n",
              "      <td>1792</td>\n",
              "      <td>52p___1 microfiche acétate de 98 images, diazo...</td>\n",
              "      <td>Bancal Desissarts, Jean-Henri (1750-1826). Aut...</td>\n",
              "      <td>NaN</td>\n",
              "      <td>Hachette (Paris)</td>\n",
              "      <td>NaN</td>\n",
              "      <td>NaN</td>\n",
              "      <td>NaN</td>\n",
              "    </tr>\n",
              "    <tr>\n",
              "      <th>2</th>\n",
              "      <td>3</td>\n",
              "      <td>http://catalogue.bnf.fr/ark:/12148/cb30051725x</td>\n",
              "      <td>https://gallica.bnf.fr/ark:/12148/bpt6k42324856</td>\n",
              "      <td>Bancal des Issarts</td>\n",
              "      <td>NaN</td>\n",
              "      <td>Convention nationale. Discours et projet de dé...</td>\n",
              "      <td>1792</td>\n",
              "      <td>In-8° , 28 p.</td>\n",
              "      <td>Bancal Desissarts, Jean-Henri (1750-1826). Aut...</td>\n",
              "      <td>France. Convention nationale. Éditeur scientif...</td>\n",
              "      <td>Impr. nationale (Paris)</td>\n",
              "      <td>NaN</td>\n",
              "      <td>NaN</td>\n",
              "      <td>NaN</td>\n",
              "    </tr>\n",
              "    <tr>\n",
              "      <th>3</th>\n",
              "      <td>4</td>\n",
              "      <td>http://catalogue.bnf.fr/ark:/12148/cb300517148</td>\n",
              "      <td>https://gallica.bnf.fr/ark:/12148/bpt6k853041</td>\n",
              "      <td>Bancal des Issarts</td>\n",
              "      <td>NaN</td>\n",
              "      <td>Henri Bancal, député à la Convention, à Anacha...</td>\n",
              "      <td>1793-1794</td>\n",
              "      <td>16 p. ; in-8</td>\n",
              "      <td>Bancal Desissarts, Jean-Henri (1750-1826). Aut...</td>\n",
              "      <td>NaN</td>\n",
              "      <td>Impr. du Cercle social (Paris)</td>\n",
              "      <td>NaN</td>\n",
              "      <td>NaN</td>\n",
              "      <td>NaN</td>\n",
              "    </tr>\n",
              "    <tr>\n",
              "      <th>4</th>\n",
              "      <td>5</td>\n",
              "      <td>http://catalogue.bnf.fr/ark:/12148/cb30051721j</td>\n",
              "      <td>https://gallica.bnf.fr/ark:/12148/bpt6k62669573</td>\n",
              "      <td>Bancal des Issarts</td>\n",
              "      <td>NaN</td>\n",
              "      <td>Des prochaines élections de l'an VI , par Jean...</td>\n",
              "      <td>1798</td>\n",
              "      <td>12 p. ; in-8</td>\n",
              "      <td>Bancal Desissarts, Jean-Henri (1750-1826). Aut...</td>\n",
              "      <td>NaN</td>\n",
              "      <td>impr. de Baudouin (Paris)</td>\n",
              "      <td>NaN</td>\n",
              "      <td>NaN</td>\n",
              "      <td>NaN</td>\n",
              "    </tr>\n",
              "  </tbody>\n",
              "</table>\n",
              "</div>\n",
              "    <div class=\"colab-df-buttons\">\n",
              "\n",
              "  <div class=\"colab-df-container\">\n",
              "    <button class=\"colab-df-convert\" onclick=\"convertToInteractive('df-2fe0210d-e7c7-4741-a5c4-4d86f91bab59')\"\n",
              "            title=\"Convert this dataframe to an interactive table.\"\n",
              "            style=\"display:none;\">\n",
              "\n",
              "  <svg xmlns=\"http://www.w3.org/2000/svg\" height=\"24px\" viewBox=\"0 -960 960 960\">\n",
              "    <path d=\"M120-120v-720h720v720H120Zm60-500h600v-160H180v160Zm220 220h160v-160H400v160Zm0 220h160v-160H400v160ZM180-400h160v-160H180v160Zm440 0h160v-160H620v160ZM180-180h160v-160H180v160Zm440 0h160v-160H620v160Z\"/>\n",
              "  </svg>\n",
              "    </button>\n",
              "\n",
              "  <style>\n",
              "    .colab-df-container {\n",
              "      display:flex;\n",
              "      gap: 12px;\n",
              "    }\n",
              "\n",
              "    .colab-df-convert {\n",
              "      background-color: #E8F0FE;\n",
              "      border: none;\n",
              "      border-radius: 50%;\n",
              "      cursor: pointer;\n",
              "      display: none;\n",
              "      fill: #1967D2;\n",
              "      height: 32px;\n",
              "      padding: 0 0 0 0;\n",
              "      width: 32px;\n",
              "    }\n",
              "\n",
              "    .colab-df-convert:hover {\n",
              "      background-color: #E2EBFA;\n",
              "      box-shadow: 0px 1px 2px rgba(60, 64, 67, 0.3), 0px 1px 3px 1px rgba(60, 64, 67, 0.15);\n",
              "      fill: #174EA6;\n",
              "    }\n",
              "\n",
              "    .colab-df-buttons div {\n",
              "      margin-bottom: 4px;\n",
              "    }\n",
              "\n",
              "    [theme=dark] .colab-df-convert {\n",
              "      background-color: #3B4455;\n",
              "      fill: #D2E3FC;\n",
              "    }\n",
              "\n",
              "    [theme=dark] .colab-df-convert:hover {\n",
              "      background-color: #434B5C;\n",
              "      box-shadow: 0px 1px 3px 1px rgba(0, 0, 0, 0.15);\n",
              "      filter: drop-shadow(0px 1px 2px rgba(0, 0, 0, 0.3));\n",
              "      fill: #FFFFFF;\n",
              "    }\n",
              "  </style>\n",
              "\n",
              "    <script>\n",
              "      const buttonEl =\n",
              "        document.querySelector('#df-2fe0210d-e7c7-4741-a5c4-4d86f91bab59 button.colab-df-convert');\n",
              "      buttonEl.style.display =\n",
              "        google.colab.kernel.accessAllowed ? 'block' : 'none';\n",
              "\n",
              "      async function convertToInteractive(key) {\n",
              "        const element = document.querySelector('#df-2fe0210d-e7c7-4741-a5c4-4d86f91bab59');\n",
              "        const dataTable =\n",
              "          await google.colab.kernel.invokeFunction('convertToInteractive',\n",
              "                                                    [key], {});\n",
              "        if (!dataTable) return;\n",
              "\n",
              "        const docLinkHtml = 'Like what you see? Visit the ' +\n",
              "          '<a target=\"_blank\" href=https://colab.research.google.com/notebooks/data_table.ipynb>data table notebook</a>'\n",
              "          + ' to learn more about interactive tables.';\n",
              "        element.innerHTML = '';\n",
              "        dataTable['output_type'] = 'display_data';\n",
              "        await google.colab.output.renderOutput(dataTable, element);\n",
              "        const docLink = document.createElement('div');\n",
              "        docLink.innerHTML = docLinkHtml;\n",
              "        element.appendChild(docLink);\n",
              "      }\n",
              "    </script>\n",
              "  </div>\n",
              "\n",
              "\n",
              "<div id=\"df-3cefb873-f94a-41fd-bfde-46d71aa16ec0\">\n",
              "  <button class=\"colab-df-quickchart\" onclick=\"quickchart('df-3cefb873-f94a-41fd-bfde-46d71aa16ec0')\"\n",
              "            title=\"Suggest charts\"\n",
              "            style=\"display:none;\">\n",
              "\n",
              "<svg xmlns=\"http://www.w3.org/2000/svg\" height=\"24px\"viewBox=\"0 0 24 24\"\n",
              "     width=\"24px\">\n",
              "    <g>\n",
              "        <path d=\"M19 3H5c-1.1 0-2 .9-2 2v14c0 1.1.9 2 2 2h14c1.1 0 2-.9 2-2V5c0-1.1-.9-2-2-2zM9 17H7v-7h2v7zm4 0h-2V7h2v10zm4 0h-2v-4h2v4z\"/>\n",
              "    </g>\n",
              "</svg>\n",
              "  </button>\n",
              "\n",
              "<style>\n",
              "  .colab-df-quickchart {\n",
              "      --bg-color: #E8F0FE;\n",
              "      --fill-color: #1967D2;\n",
              "      --hover-bg-color: #E2EBFA;\n",
              "      --hover-fill-color: #174EA6;\n",
              "      --disabled-fill-color: #AAA;\n",
              "      --disabled-bg-color: #DDD;\n",
              "  }\n",
              "\n",
              "  [theme=dark] .colab-df-quickchart {\n",
              "      --bg-color: #3B4455;\n",
              "      --fill-color: #D2E3FC;\n",
              "      --hover-bg-color: #434B5C;\n",
              "      --hover-fill-color: #FFFFFF;\n",
              "      --disabled-bg-color: #3B4455;\n",
              "      --disabled-fill-color: #666;\n",
              "  }\n",
              "\n",
              "  .colab-df-quickchart {\n",
              "    background-color: var(--bg-color);\n",
              "    border: none;\n",
              "    border-radius: 50%;\n",
              "    cursor: pointer;\n",
              "    display: none;\n",
              "    fill: var(--fill-color);\n",
              "    height: 32px;\n",
              "    padding: 0;\n",
              "    width: 32px;\n",
              "  }\n",
              "\n",
              "  .colab-df-quickchart:hover {\n",
              "    background-color: var(--hover-bg-color);\n",
              "    box-shadow: 0 1px 2px rgba(60, 64, 67, 0.3), 0 1px 3px 1px rgba(60, 64, 67, 0.15);\n",
              "    fill: var(--button-hover-fill-color);\n",
              "  }\n",
              "\n",
              "  .colab-df-quickchart-complete:disabled,\n",
              "  .colab-df-quickchart-complete:disabled:hover {\n",
              "    background-color: var(--disabled-bg-color);\n",
              "    fill: var(--disabled-fill-color);\n",
              "    box-shadow: none;\n",
              "  }\n",
              "\n",
              "  .colab-df-spinner {\n",
              "    border: 2px solid var(--fill-color);\n",
              "    border-color: transparent;\n",
              "    border-bottom-color: var(--fill-color);\n",
              "    animation:\n",
              "      spin 1s steps(1) infinite;\n",
              "  }\n",
              "\n",
              "  @keyframes spin {\n",
              "    0% {\n",
              "      border-color: transparent;\n",
              "      border-bottom-color: var(--fill-color);\n",
              "      border-left-color: var(--fill-color);\n",
              "    }\n",
              "    20% {\n",
              "      border-color: transparent;\n",
              "      border-left-color: var(--fill-color);\n",
              "      border-top-color: var(--fill-color);\n",
              "    }\n",
              "    30% {\n",
              "      border-color: transparent;\n",
              "      border-left-color: var(--fill-color);\n",
              "      border-top-color: var(--fill-color);\n",
              "      border-right-color: var(--fill-color);\n",
              "    }\n",
              "    40% {\n",
              "      border-color: transparent;\n",
              "      border-right-color: var(--fill-color);\n",
              "      border-top-color: var(--fill-color);\n",
              "    }\n",
              "    60% {\n",
              "      border-color: transparent;\n",
              "      border-right-color: var(--fill-color);\n",
              "    }\n",
              "    80% {\n",
              "      border-color: transparent;\n",
              "      border-right-color: var(--fill-color);\n",
              "      border-bottom-color: var(--fill-color);\n",
              "    }\n",
              "    90% {\n",
              "      border-color: transparent;\n",
              "      border-bottom-color: var(--fill-color);\n",
              "    }\n",
              "  }\n",
              "</style>\n",
              "\n",
              "  <script>\n",
              "    async function quickchart(key) {\n",
              "      const quickchartButtonEl =\n",
              "        document.querySelector('#' + key + ' button');\n",
              "      quickchartButtonEl.disabled = true;  // To prevent multiple clicks.\n",
              "      quickchartButtonEl.classList.add('colab-df-spinner');\n",
              "      try {\n",
              "        const charts = await google.colab.kernel.invokeFunction(\n",
              "            'suggestCharts', [key], {});\n",
              "      } catch (error) {\n",
              "        console.error('Error during call to suggestCharts:', error);\n",
              "      }\n",
              "      quickchartButtonEl.classList.remove('colab-df-spinner');\n",
              "      quickchartButtonEl.classList.add('colab-df-quickchart-complete');\n",
              "    }\n",
              "    (() => {\n",
              "      let quickchartButtonEl =\n",
              "        document.querySelector('#df-3cefb873-f94a-41fd-bfde-46d71aa16ec0 button');\n",
              "      quickchartButtonEl.style.display =\n",
              "        google.colab.kernel.accessAllowed ? 'block' : 'none';\n",
              "    })();\n",
              "  </script>\n",
              "</div>\n",
              "    </div>\n",
              "  </div>\n"
            ]
          },
          "metadata": {},
          "execution_count": 54
        }
      ]
    },
    {
      "cell_type": "code",
      "source": [
        "metadata['id'] = metadata.id.astype(str)\n",
        "\n",
        "# create a column for filenames\n",
        "metadata['filename'] = metadata.apply(lambda x: '_'.join(x[['author_short', 'id']]), axis = 1)\n",
        "\n",
        "# clean columns with multiple Gallica links (several exemplaires digitised for one catalogue entry)\n",
        "metadata['link_gallica'] = metadata['link_gallica'].str.split(' | ').str[0]"
      ],
      "metadata": {
        "id": "yloE1LU0OlcP"
      },
      "execution_count": 78,
      "outputs": []
    },
    {
      "cell_type": "code",
      "source": [
        "# extract filenames as a list\n",
        "fh = metadata['filename'].to_list()\n",
        "print(fh[1:5])"
      ],
      "metadata": {
        "colab": {
          "base_uri": "https://localhost:8080/"
        },
        "id": "2pghV-VjNgoY",
        "outputId": "154ebaeb-34aa-4a6f-f5fb-2186c3e42446"
      },
      "execution_count": 61,
      "outputs": [
        {
          "output_type": "stream",
          "name": "stdout",
          "text": [
            "['Bancal des Issarts_2', 'Bancal des Issarts_3', 'Bancal des Issarts_4', 'Bancal des Issarts_5']\n"
          ]
        }
      ]
    },
    {
      "cell_type": "code",
      "source": [
        "# extract links as a list\n",
        "links = metadata['link_gallica'].to_list()\n",
        "print(links[100:150])"
      ],
      "metadata": {
        "colab": {
          "base_uri": "https://localhost:8080/"
        },
        "id": "oxVk2FEXIGPs",
        "outputId": "318b1db9-b9e1-4909-88da-7a340deff4bb"
      },
      "execution_count": 80,
      "outputs": [
        {
          "output_type": "stream",
          "name": "stdout",
          "text": [
            "['https://gallica.bnf.fr/ark:/12148/bpt6k474686', 'https://gallica.bnf.fr/ark:/12148/bpt6k47048g', 'https://gallica.bnf.fr/ark:/12148/bpt6k40875w', 'https://gallica.bnf.fr/ark:/12148/bpt6k47953j', 'https://gallica.bnf.fr/ark:/12148/bpt6k4103z', 'https://gallica.bnf.fr/ark:/12148/bpt6k5735739b', 'https://gallica.bnf.fr/ark:/12148/bpt6k5736010r', 'https://gallica.bnf.fr/ark:/12148/bpt6k58125365', 'https://gallica.bnf.fr/ark:/12148/bpt6k133810j', 'https://gallica.bnf.fr/ark:/12148/bpt6k5626256x', 'https://gallica.bnf.fr/ark:/12148/bpt6k1095385b', 'https://gallica.bnf.fr/ark:/12148/bpt6k1506575p', 'https://gallica.bnf.fr/ark:/12148/bpt6k6558248s', 'https://gallica.bnf.fr/ark:/12148/bpt6k56833m', 'https://gallica.bnf.fr/ark:/12148/bpt6k568072', 'https://gallica.bnf.fr/ark:/12148/bpt6k56854k', 'https://gallica.bnf.fr/ark:/12148/bpt6k567560', 'https://gallica.bnf.fr/ark:/12148/bpt6k432691', 'https://gallica.bnf.fr/ark:/12148/bpt6k43219g', 'https://gallica.bnf.fr/ark:/12148/bpt6k43259q', 'https://gallica.bnf.fr/ark:/12148/bpt6k481438', 'https://gallica.bnf.fr/ark:/12148/bpt6k43222c', 'https://gallica.bnf.fr/ark:/12148/bpt6k568239', 'https://gallica.bnf.fr/ark:/12148/bpt6k43268p', 'https://gallica.bnf.fr/ark:/12148/bpt6k569107', 'https://gallica.bnf.fr/ark:/12148/bpt6k56861v', 'https://gallica.bnf.fr/ark:/12148/bpt6k56860h', 'https://gallica.bnf.fr/ark:/12148/bpt6k566541', 'https://gallica.bnf.fr/ark:/12148/bpt6k432184', 'https://gallica.bnf.fr/ark:/12148/bpt6k6248566r', 'https://gallica.bnf.fr/ark:/12148/bpt6k9330c', 'https://gallica.bnf.fr/ark:/12148/btv1b86262724', 'https://gallica.bnf.fr/ark:/12148/bpt6k1509379k', 'https://gallica.bnf.fr/ark:/12148/bpt6k1509377r', 'https://gallica.bnf.fr/ark:/12148/bpt6k56234981', 'https://gallica.bnf.fr/ark:/12148/bpt6k15093807', 'https://gallica.bnf.fr/ark:/12148/bpt6k15094365', 'https://gallica.bnf.fr/ark:/12148/bpt6k1509451v', 'https://gallica.bnf.fr/ark:/12148/bpt6k1509370v', 'https://gallica.bnf.fr/ark:/12148/bpt6k15093785', 'https://gallica.bnf.fr/ark:/12148/bpt6k1509449s', 'https://gallica.bnf.fr/ark:/12148/bpt6k15093718', 'https://gallica.bnf.fr/ark:/12148/bpt6k1509442w', 'https://gallica.bnf.fr/ark:/12148/bpt6k15094402', 'https://gallica.bnf.fr/ark:/12148/bpt6k15094380', 'https://gallica.bnf.fr/ark:/12148/bpt6k1509375x', 'https://gallica.bnf.fr/ark:/12148/bpt6k1509446j', 'https://gallica.bnf.fr/ark:/12148/bpt6k1057808s', 'https://gallica.bnf.fr/ark:/12148/bpt6k15093696', 'https://gallica.bnf.fr/ark:/12148/bpt6k1509447z']\n"
          ]
        }
      ]
    },
    {
      "cell_type": "code",
      "source": [
        "# test print out\n",
        "for i in range(5):\n",
        "  url = links[i]\n",
        "  pdf_file = fh[i]+'.pdf'\n",
        "  final_url = url+'.pdf'\n",
        "  print(url)\n",
        "  print(final_url)\n",
        "  print(pdf_file)\n",
        "  print(time.ctime())\n",
        "  time.sleep(5)\n",
        "  print(\"waited 5 sec, time now: \", time.ctime())"
      ],
      "metadata": {
        "colab": {
          "base_uri": "https://localhost:8080/"
        },
        "id": "IJxi_SoSNfYh",
        "outputId": "fa6fdc32-f7c9-4171-9373-cc6607d914bd"
      },
      "execution_count": 72,
      "outputs": [
        {
          "output_type": "stream",
          "name": "stdout",
          "text": [
            "https://gallica.bnf.fr/ark:/12148/bpt6k42803h\n",
            "https://gallica.bnf.fr/ark:/12148/bpt6k42803h.pdf\n",
            "Bancal des Issarts_1.pdf\n",
            "Fri Nov 10 17:26:16 2023\n",
            "waited 5 sec, time now:  Fri Nov 10 17:26:21 2023\n",
            "https://gallica.bnf.fr/ark:/12148/bpt6k85298x\n",
            "https://gallica.bnf.fr/ark:/12148/bpt6k85298x.pdf\n",
            "Bancal des Issarts_2.pdf\n",
            "Fri Nov 10 17:26:21 2023\n",
            "waited 5 sec, time now:  Fri Nov 10 17:26:26 2023\n",
            "https://gallica.bnf.fr/ark:/12148/bpt6k42324856\n",
            "https://gallica.bnf.fr/ark:/12148/bpt6k42324856.pdf\n",
            "Bancal des Issarts_3.pdf\n",
            "Fri Nov 10 17:26:26 2023\n",
            "waited 5 sec, time now:  Fri Nov 10 17:26:31 2023\n",
            "https://gallica.bnf.fr/ark:/12148/bpt6k853041\n",
            "https://gallica.bnf.fr/ark:/12148/bpt6k853041.pdf\n",
            "Bancal des Issarts_4.pdf\n",
            "Fri Nov 10 17:26:31 2023\n",
            "waited 5 sec, time now:  Fri Nov 10 17:26:36 2023\n",
            "https://gallica.bnf.fr/ark:/12148/bpt6k62669573\n",
            "https://gallica.bnf.fr/ark:/12148/bpt6k62669573.pdf\n",
            "Bancal des Issarts_5.pdf\n",
            "Fri Nov 10 17:26:36 2023\n",
            "waited 5 sec, time now:  Fri Nov 10 17:26:41 2023\n"
          ]
        }
      ]
    },
    {
      "cell_type": "code",
      "source": [
        "# test download\n",
        "error_list = []\n",
        "\n",
        "for i in range(16, 20):\n",
        "  url = links[i]\n",
        "  pdf_file = fh[i]+'.pdf'\n",
        "  final_url = url+'.pdf'\n",
        "  try:\n",
        "    response = urllib.request.urlopen(url)\n",
        "    urllib.request.urlretrieve(final_url, pdf_file)\n",
        "  except:\n",
        "    print(\"Something went wrong with URL:\", url, \"\\nError for the filename: \", pdf_file, \"\\n\")\n",
        "    error_list = error_list.append(url)\n",
        "  print(\"Finished with:\", pdf_file, \"\\nTime:\", time.ctime(), \"\\n\")\n",
        "  time.sleep(5)"
      ],
      "metadata": {
        "colab": {
          "base_uri": "https://localhost:8080/"
        },
        "id": "rS6-Bb-INfVq",
        "outputId": "01be8b8d-2d5c-4120-860d-d9c605b5bf79"
      },
      "execution_count": 77,
      "outputs": [
        {
          "output_type": "stream",
          "name": "stdout",
          "text": [
            "Finished with: Baudeau_23.pdf \n",
            "Time: Fri Nov 10 17:42:34 2023 \n",
            "\n",
            "Finished with: Baudeau_25.pdf \n",
            "Time: Fri Nov 10 17:44:31 2023 \n",
            "\n",
            "Finished with: Baudeau_26.pdf \n",
            "Time: Fri Nov 10 17:44:49 2023 \n",
            "\n",
            "Finished with: Baudeau_28.pdf \n",
            "Time: Fri Nov 10 17:45:14 2023 \n",
            "\n"
          ]
        }
      ]
    },
    {
      "cell_type": "code",
      "source": [],
      "metadata": {
        "id": "oIagsNvZNfPc"
      },
      "execution_count": null,
      "outputs": []
    }
  ]
}